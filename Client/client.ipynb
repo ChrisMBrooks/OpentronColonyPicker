{
 "cells": [
  {
   "cell_type": "code",
   "execution_count": null,
   "id": "bc323717",
   "metadata": {},
   "outputs": [],
   "source": [
    "import requests"
   ]
  },
  {
   "cell_type": "code",
   "execution_count": null,
   "id": "c666c15d",
   "metadata": {},
   "outputs": [],
   "source": [
    "# Set Connectivity Params\n",
    "ip_address_mitm '192.168.1.124'\n",
    "port = '5000'\n",
    "server_url_root = \"http://{}:{}/image\".format(ip_address_mitm, port)\n",
    "server_url_os = \"{}/os\".format(server_url_root)\n",
    "server_url_image = \"{}/image\".format(server_url_root)\n",
    "server_url_col_locs = \"{}/{colony-locations}\".format()"
   ]
  },
  {
   "cell_type": "code",
   "execution_count": null,
   "id": "1c859d25",
   "metadata": {},
   "outputs": [],
   "source": [
    "# Test Connectivity\n",
    "response = requests.get(server_url_os, allow_redirects=True)\n",
    "print(response.text)"
   ]
  },
  {
   "cell_type": "code",
   "execution_count": null,
   "id": "856f3aec",
   "metadata": {},
   "outputs": [],
   "source": [
    "# Request a Calibration Image\n",
    "response = requests.get(server_url_image, allow_redirects=True)\n",
    "\n",
    "full_path = \"/Users/chrismbrooks/Desktop/temp/test.jpg\"\n",
    "open(full_path, 'wb').write(response.content)"
   ]
  },
  {
   "cell_type": "code",
   "execution_count": null,
   "id": "8a7e45c8",
   "metadata": {},
   "outputs": [],
   "source": [
    "# Calibrate from Image, manage offsets"
   ]
  },
  {
   "cell_type": "code",
   "execution_count": null,
   "id": "8a2f9666",
   "metadata": {},
   "outputs": [],
   "source": [
    "# Request the Colony Locations\n",
    "response = requests.get(server_url_col_locs, allow_redirects=True)\n",
    "data = response.json()\n"
   ]
  },
  {
   "cell_type": "code",
   "execution_count": null,
   "id": "84411868",
   "metadata": {},
   "outputs": [],
   "source": [
    "# Loop through locations, move colonies to 96 well plate, \n",
    "# keep track of which locations in the plate already have a colony"
   ]
  },
  {
   "cell_type": "code",
   "execution_count": null,
   "id": "37bdc38d",
   "metadata": {},
   "outputs": [],
   "source": [
    "# Colony PCR Protocol\n"
   ]
  }
 ],
 "metadata": {
  "kernelspec": {
   "display_name": "Python 3 (ipykernel)",
   "language": "python",
   "name": "python3"
  },
  "language_info": {
   "codemirror_mode": {
    "name": "ipython",
    "version": 3
   },
   "file_extension": ".py",
   "mimetype": "text/x-python",
   "name": "python",
   "nbconvert_exporter": "python",
   "pygments_lexer": "ipython3",
   "version": "3.9.12"
  }
 },
 "nbformat": 4,
 "nbformat_minor": 5
}
